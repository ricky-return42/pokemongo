{
 "cells": [
  {
   "cell_type": "markdown",
   "metadata": {},
   "source": [
    "# Pokemon Go Analysis\n",
    "\n",
    "Pokemon Go is (was...) a very popular game on mobile platforms where players act as Pokemon Trainers and try to catch various Pokemons around the globe. The aim of this brief analysis is to summarise the statistics of the Pokemons and determine which ones are stronger. Geograpical data is also included in the data set where and it would also be very interesting to verify the claim by the developer (Niantic) that the location of appearance of Pokemon is correlated with their Type.\n",
    "\n",
    "### Data ETL\n",
    "\n",
    "2 CSV files will be used and they are obtained from Kaggle."
   ]
  },
  {
   "cell_type": "code",
   "execution_count": 1,
   "metadata": {
    "collapsed": true
   },
   "outputs": [],
   "source": [
    "import pandas as pd\n",
    "import numpy as np\n",
    "import matplotlib.pyplot as plt\n",
    "import seaborn as sns\n",
    "%matplotlib inline\n",
    "\n",
    "df_go = pd.read_csv('pokemonGO.csv')\n",
    "df_spawn = pd.read_csv('pokemon-spawns.csv')"
   ]
  },
  {
   "cell_type": "code",
   "execution_count": 2,
   "metadata": {
    "collapsed": false
   },
   "outputs": [
    {
     "data": {
      "text/html": [
       "<div>\n",
       "<table border=\"1\" class=\"dataframe\">\n",
       "  <thead>\n",
       "    <tr style=\"text-align: right;\">\n",
       "      <th></th>\n",
       "      <th>Pokemon No.</th>\n",
       "      <th>Name</th>\n",
       "      <th>Type 1</th>\n",
       "      <th>Type 2</th>\n",
       "      <th>Max CP</th>\n",
       "      <th>Max HP</th>\n",
       "      <th>Image URL</th>\n",
       "    </tr>\n",
       "  </thead>\n",
       "  <tbody>\n",
       "    <tr>\n",
       "      <th>0</th>\n",
       "      <td>1</td>\n",
       "      <td>Bulbasaur</td>\n",
       "      <td>Grass</td>\n",
       "      <td>Poison</td>\n",
       "      <td>1079</td>\n",
       "      <td>83</td>\n",
       "      <td>http://cdn.bulbagarden.net/upload/thumb/2/21/0...</td>\n",
       "    </tr>\n",
       "    <tr>\n",
       "      <th>1</th>\n",
       "      <td>2</td>\n",
       "      <td>Ivysaur</td>\n",
       "      <td>Grass</td>\n",
       "      <td>Poison</td>\n",
       "      <td>1643</td>\n",
       "      <td>107</td>\n",
       "      <td>http://cdn.bulbagarden.net/upload/thumb/7/73/0...</td>\n",
       "    </tr>\n",
       "  </tbody>\n",
       "</table>\n",
       "</div>"
      ],
      "text/plain": [
       "   Pokemon No.       Name Type 1  Type 2  Max CP  Max HP  \\\n",
       "0            1  Bulbasaur  Grass  Poison    1079      83   \n",
       "1            2    Ivysaur  Grass  Poison    1643     107   \n",
       "\n",
       "                                           Image URL  \n",
       "0  http://cdn.bulbagarden.net/upload/thumb/2/21/0...  \n",
       "1  http://cdn.bulbagarden.net/upload/thumb/7/73/0...  "
      ]
     },
     "execution_count": 2,
     "metadata": {},
     "output_type": "execute_result"
    }
   ],
   "source": [
    "df_go.head(2)"
   ]
  },
  {
   "cell_type": "code",
   "execution_count": 3,
   "metadata": {
    "collapsed": false
   },
   "outputs": [
    {
     "data": {
      "text/html": [
       "<div>\n",
       "<table border=\"1\" class=\"dataframe\">\n",
       "  <thead>\n",
       "    <tr style=\"text-align: right;\">\n",
       "      <th></th>\n",
       "      <th>s2_id</th>\n",
       "      <th>s2_token</th>\n",
       "      <th>num</th>\n",
       "      <th>name</th>\n",
       "      <th>lat</th>\n",
       "      <th>lng</th>\n",
       "      <th>encounter_ms</th>\n",
       "      <th>disppear_ms</th>\n",
       "    </tr>\n",
       "  </thead>\n",
       "  <tbody>\n",
       "    <tr>\n",
       "      <th>0</th>\n",
       "      <td>-9185794522947256000</td>\n",
       "      <td>8085808cc6d</td>\n",
       "      <td>13</td>\n",
       "      <td>Weedle</td>\n",
       "      <td>37.793592</td>\n",
       "      <td>-122.408721</td>\n",
       "      <td>1469520187732</td>\n",
       "      <td>1469519919988</td>\n",
       "    </tr>\n",
       "    <tr>\n",
       "      <th>1</th>\n",
       "      <td>-9185794529389707000</td>\n",
       "      <td>8085808b51d</td>\n",
       "      <td>16</td>\n",
       "      <td>Pidgey</td>\n",
       "      <td>37.794746</td>\n",
       "      <td>-122.406420</td>\n",
       "      <td>1469520297172</td>\n",
       "      <td>1469519919992</td>\n",
       "    </tr>\n",
       "  </tbody>\n",
       "</table>\n",
       "</div>"
      ],
      "text/plain": [
       "                 s2_id     s2_token  num    name        lat         lng  \\\n",
       "0 -9185794522947256000  8085808cc6d   13  Weedle  37.793592 -122.408721   \n",
       "1 -9185794529389707000  8085808b51d   16  Pidgey  37.794746 -122.406420   \n",
       "\n",
       "    encounter_ms    disppear_ms  \n",
       "0  1469520187732  1469519919988  \n",
       "1  1469520297172  1469519919992  "
      ]
     },
     "execution_count": 3,
     "metadata": {},
     "output_type": "execute_result"
    }
   ],
   "source": [
    "df_spawn.head(2)"
   ]
  },
  {
   "cell_type": "markdown",
   "metadata": {},
   "source": [
    "From the above we can see that in df_go we have identification information about the Pokemon (Pokemon No. and Name) and the properties of the Pokemons (Types, CP and HP). For those who are not familiar with the game, CP is related to how hard a Pokemon hits and HP is related to how tough it is. In other words they are the 'attack' and 'defense' properties respectively.\n",
    "\n",
    "df_spawn contains information of Pokemon appearance across a time period in the San Fransisco Bay area. In the data we have the Pokemon info, which is useful for joining up the data. Then we have the location(latitude and longitude) of each appearance. We have also got the duration of its appearance (encounter and disappear). The s2 information is irrelevant in this analysis hence they would be excluded."
   ]
  },
  {
   "cell_type": "code",
   "execution_count": 4,
   "metadata": {
    "collapsed": true
   },
   "outputs": [],
   "source": [
    "# drop s2 related columns\n",
    "df_spawn.drop(['s2_id','s2_token'],axis=1,inplace=True)"
   ]
  },
  {
   "cell_type": "code",
   "execution_count": 12,
   "metadata": {
    "collapsed": false
   },
   "outputs": [],
   "source": [
    "# Compute appearance duration\n",
    "df_spawn['duration_s'] = -(df_spawn['disppear_ms'] - df_spawn['encounter_ms'])/1000"
   ]
  },
  {
   "cell_type": "code",
   "execution_count": 13,
   "metadata": {
    "collapsed": false
   },
   "outputs": [
    {
     "data": {
      "text/html": [
       "<div>\n",
       "<table border=\"1\" class=\"dataframe\">\n",
       "  <thead>\n",
       "    <tr style=\"text-align: right;\">\n",
       "      <th></th>\n",
       "      <th>num</th>\n",
       "      <th>lat</th>\n",
       "      <th>lng</th>\n",
       "      <th>encounter_ms</th>\n",
       "      <th>disppear_ms</th>\n",
       "      <th>duration_s</th>\n",
       "    </tr>\n",
       "  </thead>\n",
       "  <tbody>\n",
       "    <tr>\n",
       "      <th>count</th>\n",
       "      <td>314105.000000</td>\n",
       "      <td>314105.000000</td>\n",
       "      <td>314105.000000</td>\n",
       "      <td>3.141050e+05</td>\n",
       "      <td>3.141050e+05</td>\n",
       "      <td>3.141050e+05</td>\n",
       "    </tr>\n",
       "    <tr>\n",
       "      <th>mean</th>\n",
       "      <td>46.544569</td>\n",
       "      <td>37.291383</td>\n",
       "      <td>-95.059814</td>\n",
       "      <td>1.371451e+12</td>\n",
       "      <td>1.469550e+12</td>\n",
       "      <td>-9.809908e+07</td>\n",
       "    </tr>\n",
       "    <tr>\n",
       "      <th>std</th>\n",
       "      <td>36.155881</td>\n",
       "      <td>1.918667</td>\n",
       "      <td>73.256881</td>\n",
       "      <td>3.667958e+11</td>\n",
       "      <td>1.999433e+07</td>\n",
       "      <td>3.667959e+08</td>\n",
       "    </tr>\n",
       "    <tr>\n",
       "      <th>min</th>\n",
       "      <td>1.000000</td>\n",
       "      <td>32.188748</td>\n",
       "      <td>-122.611804</td>\n",
       "      <td>-1.000000e+00</td>\n",
       "      <td>1.469520e+12</td>\n",
       "      <td>-1.469670e+09</td>\n",
       "    </tr>\n",
       "    <tr>\n",
       "      <th>25%</th>\n",
       "      <td>19.000000</td>\n",
       "      <td>37.322103</td>\n",
       "      <td>-122.337013</td>\n",
       "      <td>1.469542e+12</td>\n",
       "      <td>1.469543e+12</td>\n",
       "      <td>1.785060e+02</td>\n",
       "    </tr>\n",
       "    <tr>\n",
       "      <th>50%</th>\n",
       "      <td>41.000000</td>\n",
       "      <td>37.615938</td>\n",
       "      <td>-122.106334</td>\n",
       "      <td>1.469549e+12</td>\n",
       "      <td>1.469549e+12</td>\n",
       "      <td>4.199840e+02</td>\n",
       "    </tr>\n",
       "    <tr>\n",
       "      <th>75%</th>\n",
       "      <td>60.000000</td>\n",
       "      <td>37.788990</td>\n",
       "      <td>-118.260931</td>\n",
       "      <td>1.469557e+12</td>\n",
       "      <td>1.469557e+12</td>\n",
       "      <td>6.598370e+02</td>\n",
       "    </tr>\n",
       "    <tr>\n",
       "      <th>max</th>\n",
       "      <td>148.000000</td>\n",
       "      <td>43.164284</td>\n",
       "      <td>139.840451</td>\n",
       "      <td>1.469671e+12</td>\n",
       "      <td>1.469670e+12</td>\n",
       "      <td>9.000000e+02</td>\n",
       "    </tr>\n",
       "  </tbody>\n",
       "</table>\n",
       "</div>"
      ],
      "text/plain": [
       "                 num            lat            lng  encounter_ms  \\\n",
       "count  314105.000000  314105.000000  314105.000000  3.141050e+05   \n",
       "mean       46.544569      37.291383     -95.059814  1.371451e+12   \n",
       "std        36.155881       1.918667      73.256881  3.667958e+11   \n",
       "min         1.000000      32.188748    -122.611804 -1.000000e+00   \n",
       "25%        19.000000      37.322103    -122.337013  1.469542e+12   \n",
       "50%        41.000000      37.615938    -122.106334  1.469549e+12   \n",
       "75%        60.000000      37.788990    -118.260931  1.469557e+12   \n",
       "max       148.000000      43.164284     139.840451  1.469671e+12   \n",
       "\n",
       "        disppear_ms    duration_s  \n",
       "count  3.141050e+05  3.141050e+05  \n",
       "mean   1.469550e+12 -9.809908e+07  \n",
       "std    1.999433e+07  3.667959e+08  \n",
       "min    1.469520e+12 -1.469670e+09  \n",
       "25%    1.469543e+12  1.785060e+02  \n",
       "50%    1.469549e+12  4.199840e+02  \n",
       "75%    1.469557e+12  6.598370e+02  \n",
       "max    1.469670e+12  9.000000e+02  "
      ]
     },
     "execution_count": 13,
     "metadata": {},
     "output_type": "execute_result"
    }
   ],
   "source": [
    "df_spawn.describe()"
   ]
  },
  {
   "cell_type": "markdown",
   "metadata": {},
   "source": [
    "From the describe method above it can be seen that there are 314105 records in the spawn data set. However there are some ureasonable data such as the duration having a negative value. Some Longitude values seems to be off as well as it should not cover a range from -122 to +139. Therefore those data will be investigated further."
   ]
  },
  {
   "cell_type": "code",
   "execution_count": 17,
   "metadata": {
    "collapsed": false
   },
   "outputs": [
    {
     "data": {
      "text/html": [
       "<div>\n",
       "<table border=\"1\" class=\"dataframe\">\n",
       "  <thead>\n",
       "    <tr style=\"text-align: right;\">\n",
       "      <th></th>\n",
       "      <th>num</th>\n",
       "      <th>name</th>\n",
       "      <th>lat</th>\n",
       "      <th>lng</th>\n",
       "      <th>encounter_ms</th>\n",
       "      <th>disppear_ms</th>\n",
       "      <th>duration_s</th>\n",
       "    </tr>\n",
       "  </thead>\n",
       "  <tbody>\n",
       "    <tr>\n",
       "      <th>3</th>\n",
       "      <td>16</td>\n",
       "      <td>Pidgey</td>\n",
       "      <td>37.795644</td>\n",
       "      <td>-122.407128</td>\n",
       "      <td>-1</td>\n",
       "      <td>1469519920134</td>\n",
       "      <td>-1.469520e+09</td>\n",
       "    </tr>\n",
       "    <tr>\n",
       "      <th>18</th>\n",
       "      <td>19</td>\n",
       "      <td>Rattata</td>\n",
       "      <td>37.301284</td>\n",
       "      <td>-121.998094</td>\n",
       "      <td>-1</td>\n",
       "      <td>1469520277295</td>\n",
       "      <td>-1.469520e+09</td>\n",
       "    </tr>\n",
       "    <tr>\n",
       "      <th>27</th>\n",
       "      <td>133</td>\n",
       "      <td>Eevee</td>\n",
       "      <td>37.301852</td>\n",
       "      <td>-121.950999</td>\n",
       "      <td>-1</td>\n",
       "      <td>1469520277338</td>\n",
       "      <td>-1.469520e+09</td>\n",
       "    </tr>\n",
       "    <tr>\n",
       "      <th>32</th>\n",
       "      <td>19</td>\n",
       "      <td>Rattata</td>\n",
       "      <td>37.303030</td>\n",
       "      <td>-121.999782</td>\n",
       "      <td>-1</td>\n",
       "      <td>1469520277364</td>\n",
       "      <td>-1.469520e+09</td>\n",
       "    </tr>\n",
       "    <tr>\n",
       "      <th>44</th>\n",
       "      <td>46</td>\n",
       "      <td>Paras</td>\n",
       "      <td>37.303843</td>\n",
       "      <td>-121.975615</td>\n",
       "      <td>-1</td>\n",
       "      <td>1469520277481</td>\n",
       "      <td>-1.469520e+09</td>\n",
       "    </tr>\n",
       "  </tbody>\n",
       "</table>\n",
       "</div>"
      ],
      "text/plain": [
       "    num     name        lat         lng  encounter_ms    disppear_ms  \\\n",
       "3    16   Pidgey  37.795644 -122.407128            -1  1469519920134   \n",
       "18   19  Rattata  37.301284 -121.998094            -1  1469520277295   \n",
       "27  133    Eevee  37.301852 -121.950999            -1  1469520277338   \n",
       "32   19  Rattata  37.303030 -121.999782            -1  1469520277364   \n",
       "44   46    Paras  37.303843 -121.975615            -1  1469520277481   \n",
       "\n",
       "      duration_s  \n",
       "3  -1.469520e+09  \n",
       "18 -1.469520e+09  \n",
       "27 -1.469520e+09  \n",
       "32 -1.469520e+09  \n",
       "44 -1.469520e+09  "
      ]
     },
     "execution_count": 17,
     "metadata": {},
     "output_type": "execute_result"
    }
   ],
   "source": [
    "# There are 20968 rows in total but to save space only the first 5 are displayed\n",
    "df_spawn[df_spawn['duration_s']<=0].head()"
   ]
  },
  {
   "cell_type": "code",
   "execution_count": 18,
   "metadata": {
    "collapsed": true
   },
   "outputs": [],
   "source": [
    "'''It is obvious that the encounter_ms are all set to -1 which results in a negative duration. It is assumed that  \n",
    "this is due to the fact of the encounter time not being recorded. Therefore these values will be excluded from the\n",
    "analysis of Pokeon appearance duration'''\n",
    "\n",
    "df_spawn_duration = df_spawn[df_spawn['duration_s']>0]"
   ]
  },
  {
   "cell_type": "code",
   "execution_count": 19,
   "metadata": {
    "collapsed": false
   },
   "outputs": [
    {
     "data": {
      "text/plain": [
       "<matplotlib.axes._subplots.AxesSubplot at 0x117130710>"
      ]
     },
     "execution_count": 19,
     "metadata": {},
     "output_type": "execute_result"
    },
    {
     "data": {
      "image/png": "[encoded data removed]",
      "text/plain": [
       "<matplotlib.figure.Figure at 0x11764d310>"
      ]
     },
     "metadata": {},
     "output_type": "display_data"
    }
   ],
   "source": [
    "# Plot histogram to show Longitude distribution\n",
    "df_spawn['lng'].hist(figsize=(10,7))"
   ]
  },
  {
   "cell_type": "markdown",
   "metadata": {},
   "source": [
    "It is apparent that there are about 25000 cases where the Longitudes are over 100. "
   ]
  },
  {
   "cell_type": "code",
   "execution_count": 24,
   "metadata": {
    "collapsed": false
   },
   "outputs": [
    {
     "data": {
      "text/plain": [
       "<matplotlib.axes._subplots.AxesSubplot at 0x1191ed150>"
      ]
     },
     "execution_count": 24,
     "metadata": {},
     "output_type": "execute_result"
    },
    {
     "data": {
      "image/png": "[encoded data removed]",
      "text/plain": [
       "<matplotlib.figure.Figure at 0x1191e3910>"
      ]
     },
     "metadata": {},
     "output_type": "display_data"
    }
   ],
   "source": [
    "df_spawn[df_spawn['lng']<100]['lng'].hist(figsize=(10,7))"
   ]
  },
  {
   "cell_type": "markdown",
   "metadata": {},
   "source": [
    "The above plots suggest that the data might not be limited to San Fransisco only as there are multiple location data that are far apart. This can be visualised by plotting the locations in Tableau. We can see from the map below that apart from the SF Bay area, there are other data in for example LA. It turns out that the data set contains data for some ohter locations as well such as New York and even places in Japan! Since it would be better to focus the investigation in one place, it is decided that only the data for SF Bay will be used in geographical analysis. "
   ]
  },
  {
   "cell_type": "markdown",
   "metadata": {},
   "source": [
    "<img src='pokemon_location_examle.jpg'>"
   ]
  },
  {
   "cell_type": "code",
   "execution_count": 26,
   "metadata": {
    "collapsed": false
   },
   "outputs": [],
   "source": [
    "# Limit data using Latitude and Longitude\n",
    "df_spawn_geo = df_spawn[(df_spawn['lat']>=37.2) & (df_spawn['lat']<=38) & \n",
    "                        (df_spawn['lng']>=121.8) & (df_spawn['lng']<=122.6)]"
   ]
  },
  {
   "cell_type": "code",
   "execution_count": 27,
   "metadata": {
    "collapsed": false
   },
   "outputs": [
    {
     "name": "stdout",
     "output_type": "stream",
     "text": [
      "<class 'pandas.core.frame.DataFrame'>\n",
      "RangeIndex: 314105 entries, 0 to 314104\n",
      "Data columns (total 7 columns):\n",
      "num             314105 non-null int64\n",
      "name            314105 non-null object\n",
      "lat             314105 non-null float64\n",
      "lng             314105 non-null float64\n",
      "encounter_ms    314105 non-null int64\n",
      "disppear_ms     314105 non-null int64\n",
      "duration_s      314105 non-null float64\n",
      "dtypes: float64(3), int64(3), object(1)\n",
      "memory usage: 16.8+ MB\n"
     ]
    }
   ],
   "source": [
    "# Check data type of each features. They seem to be reasonable \n",
    "df_spawn.info()"
   ]
  },
  {
   "cell_type": "code",
   "execution_count": 28,
   "metadata": {
    "collapsed": false
   },
   "outputs": [
    {
     "data": {
      "text/html": [
       "<div>\n",
       "<table border=\"1\" class=\"dataframe\">\n",
       "  <thead>\n",
       "    <tr style=\"text-align: right;\">\n",
       "      <th></th>\n",
       "      <th>Pokemon No.</th>\n",
       "      <th>Max CP</th>\n",
       "      <th>Max HP</th>\n",
       "    </tr>\n",
       "  </thead>\n",
       "  <tbody>\n",
       "    <tr>\n",
       "      <th>count</th>\n",
       "      <td>151.000000</td>\n",
       "      <td>151.000000</td>\n",
       "      <td>151.000000</td>\n",
       "    </tr>\n",
       "    <tr>\n",
       "      <th>mean</th>\n",
       "      <td>76.000000</td>\n",
       "      <td>1637.291391</td>\n",
       "      <td>113.350993</td>\n",
       "    </tr>\n",
       "    <tr>\n",
       "      <th>std</th>\n",
       "      <td>43.734045</td>\n",
       "      <td>755.261726</td>\n",
       "      <td>45.297417</td>\n",
       "    </tr>\n",
       "    <tr>\n",
       "      <th>min</th>\n",
       "      <td>1.000000</td>\n",
       "      <td>264.000000</td>\n",
       "      <td>27.000000</td>\n",
       "    </tr>\n",
       "    <tr>\n",
       "      <th>25%</th>\n",
       "      <td>38.500000</td>\n",
       "      <td>1001.500000</td>\n",
       "      <td>83.000000</td>\n",
       "    </tr>\n",
       "    <tr>\n",
       "      <th>50%</th>\n",
       "      <td>76.000000</td>\n",
       "      <td>1594.000000</td>\n",
       "      <td>107.000000</td>\n",
       "    </tr>\n",
       "    <tr>\n",
       "      <th>75%</th>\n",
       "      <td>113.500000</td>\n",
       "      <td>2170.500000</td>\n",
       "      <td>138.000000</td>\n",
       "    </tr>\n",
       "    <tr>\n",
       "      <th>max</th>\n",
       "      <td>151.000000</td>\n",
       "      <td>4174.000000</td>\n",
       "      <td>408.000000</td>\n",
       "    </tr>\n",
       "  </tbody>\n",
       "</table>\n",
       "</div>"
      ],
      "text/plain": [
       "       Pokemon No.       Max CP      Max HP\n",
       "count   151.000000   151.000000  151.000000\n",
       "mean     76.000000  1637.291391  113.350993\n",
       "std      43.734045   755.261726   45.297417\n",
       "min       1.000000   264.000000   27.000000\n",
       "25%      38.500000  1001.500000   83.000000\n",
       "50%      76.000000  1594.000000  107.000000\n",
       "75%     113.500000  2170.500000  138.000000\n",
       "max     151.000000  4174.000000  408.000000"
      ]
     },
     "execution_count": 28,
     "metadata": {},
     "output_type": "execute_result"
    }
   ],
   "source": [
    "# Look at another data set\n",
    "df_go.describe()"
   ]
  },
  {
   "cell_type": "markdown",
   "metadata": {},
   "source": [
    "From the above we know that there are 151 unique Pokemon available at the time when the data was collected. Since we have no previous information about CP and HP we can not immediately tell whether they are reasonable. Therefore the data would be visulaised and explored."
   ]
  },
  {
   "cell_type": "code",
   "execution_count": 32,
   "metadata": {
    "collapsed": false
   },
   "outputs": [
    {
     "data": {
      "image/png": "[encoded data removed]",
      "text/plain": [
       "<matplotlib.figure.Figure at 0x1218bc3d0>"
      ]
     },
     "metadata": {},
     "output_type": "display_data"
    }
   ],
   "source": [
    "fig = plt.figure(figsize=(16,6))\n",
    "ax1= fig.add_subplot(121)\n",
    "ax2= fig.add_subplot(122)\n",
    "df_go['Max CP'].hist(ax=ax1)\n",
    "df_go['Max HP'].hist(ax=ax2)\n",
    "ax1.set(xlabel='Max CP', ylabel='Count', title = 'CP distribution')\n",
    "ax2.set(xlabel='Max HP', ylabel='Count', title = 'HP distribution')\n",
    "plt.show()\n"
   ]
  },
  {
   "cell_type": "markdown",
   "metadata": {},
   "source": [
    "The diagrams above shows the distribution for both CP and HP are relatively close together without any particular obvious outlier. Although it might be worth to look into the case(s) with a Max HP of over 350."
   ]
  },
  {
   "cell_type": "code",
   "execution_count": 33,
   "metadata": {
    "collapsed": false
   },
   "outputs": [
    {
     "data": {
      "text/html": [
       "<div>\n",
       "<table border=\"1\" class=\"dataframe\">\n",
       "  <thead>\n",
       "    <tr style=\"text-align: right;\">\n",
       "      <th></th>\n",
       "      <th>Pokemon No.</th>\n",
       "      <th>Name</th>\n",
       "      <th>Type 1</th>\n",
       "      <th>Type 2</th>\n",
       "      <th>Max CP</th>\n",
       "      <th>Max HP</th>\n",
       "      <th>Image URL</th>\n",
       "    </tr>\n",
       "  </thead>\n",
       "  <tbody>\n",
       "    <tr>\n",
       "      <th>112</th>\n",
       "      <td>113</td>\n",
       "      <td>Chansey</td>\n",
       "      <td>Normal</td>\n",
       "      <td>NaN</td>\n",
       "      <td>679</td>\n",
       "      <td>408</td>\n",
       "      <td>http://cdn.bulbagarden.net/upload/thumb/c/cd/1...</td>\n",
       "    </tr>\n",
       "  </tbody>\n",
       "</table>\n",
       "</div>"
      ],
      "text/plain": [
       "     Pokemon No.     Name  Type 1 Type 2  Max CP  Max HP  \\\n",
       "112          113  Chansey  Normal    NaN     679     408   \n",
       "\n",
       "                                             Image URL  \n",
       "112  http://cdn.bulbagarden.net/upload/thumb/c/cd/1...  "
      ]
     },
     "execution_count": 33,
     "metadata": {},
     "output_type": "execute_result"
    }
   ],
   "source": [
    "df_go[df_go['Max HP']>350]"
   ]
  },
  {
   "cell_type": "markdown",
   "metadata": {},
   "source": [
    "It turns out the be Chansey. If one has prior knowledge about Pokemon then this should not be a surprise as Chansey has always been a tough Pokemon. It is also a 'nurse' in the anime so we can reasonably comfortable with its high HP (life realted) value. Having understood these features, a final review was carried out."
   ]
  },
  {
   "cell_type": "code",
   "execution_count": 34,
   "metadata": {
    "collapsed": false
   },
   "outputs": [
    {
     "name": "stdout",
     "output_type": "stream",
     "text": [
      "<class 'pandas.core.frame.DataFrame'>\n",
      "RangeIndex: 151 entries, 0 to 150\n",
      "Data columns (total 7 columns):\n",
      "Pokemon No.    151 non-null int64\n",
      "Name           151 non-null object\n",
      "Type 1         151 non-null object\n",
      "Type 2         67 non-null object\n",
      "Max CP         151 non-null int64\n",
      "Max HP         151 non-null int64\n",
      "Image URL      151 non-null object\n",
      "dtypes: int64(3), object(4)\n",
      "memory usage: 8.3+ KB\n"
     ]
    }
   ],
   "source": [
    "df_go.info()"
   ]
  },
  {
   "cell_type": "code",
   "execution_count": 35,
   "metadata": {
    "collapsed": true
   },
   "outputs": [],
   "source": [
    "# There are only 67 non-null values in the Type 2 column. This can be understood as not every Pokemon has more than 1 type\n",
    "# However this NaN will still need to be filled\n",
    "\n",
    "df_go['Type 2'] = df_go['Type 2'].fillna('No_Type_2')"
   ]
  },
  {
   "cell_type": "markdown",
   "metadata": {},
   "source": [
    "### Exploratory Data Analysis (EDA)\n",
    "\n",
    "Exploratory data analysis is one of the most important part of a data science workflow. This is becuase it allows a data science to understand the structure and relationship that exists within the data. Having such understandings would be very beneficial for hypothesis testings and predictive modelling because some of those operations have certain assumptions. It is through EDA that we can verify those assumptions. It is also important in terms of feature engineering as raw features do not always have the ability to filter out the noise from signals. Combining statistical knowledge, understanding of the data and domain experitse a data scientist would be able to create better features to improve model performance.\n",
    "\n",
    "The histograms in the above sections can be classified as part of the EDA. However there are more visualisation techniques that are also helpful."
   ]
  },
  {
   "cell_type": "code",
   "execution_count": 38,
   "metadata": {
    "collapsed": false
   },
   "outputs": [
    {
     "data": {
      "image/png": "[encoded data removed]",
      "text/plain": [
       "<matplotlib.figure.Figure at 0x1216c5750>"
      ]
     },
     "metadata": {},
     "output_type": "display_data"
    }
   ],
   "source": [
    "plt.figure( figsize=(10,7))\n",
    "sns.boxplot(x='Type 1', y='Max HP', data=df_go)\n",
    "plt.show()"
   ]
  },
  {
   "cell_type": "code",
   "execution_count": null,
   "metadata": {
    "collapsed": true
   },
   "outputs": [],
   "source": []
  }
 ],
 "metadata": {
  "kernelspec": {
   "display_name": "Python 2",
   "language": "python",
   "name": "python2"
  },
  "language_info": {
   "codemirror_mode": {
    "name": "ipython",
    "version": 2
   },
   "file_extension": ".py",
   "mimetype": "text/x-python",
   "name": "python",
   "nbconvert_exporter": "python",
   "pygments_lexer": "ipython2",
   "version": "2.7.12"
  }
 },
 "nbformat": 4,
 "nbformat_minor": 0
}
