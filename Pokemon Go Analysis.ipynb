{
 "cells": [
  {
   "cell_type": "markdown",
   "metadata": {},
   "source": [
    "# Pokemon Go Analysis\n",
    "\n",
    "Pokemon Go is (was...) a very popular game on mobile platforms where players act as Pokemon Trainers and try to catch various Pokemons around the globe. The aim of this brief analysis is to summarise the statistics of the Pokemons and determine which ones are stronger. Geograpical data is also included in the data set where and it would also be very interesting to verify the claim by the developer (Niantic) that the location of appearance of Pokemon is correlated with their Type.\n",
    "\n",
    "### Data ETL\n",
    "\n",
    "2 CSV files will be used and they are obtained from Kaggle."
   ]
  },
  {
   "cell_type": "code",
   "execution_count": 1,
   "metadata": {
    "collapsed": false
   },
   "outputs": [],
   "source": [
    "import pandas as pd\n",
    "import numpy as np\n",
    "import matplotlib.pyplot as plt\n",
    "\n",
    "import seaborn as sns\n",
    "%matplotlib inline\n",
    "\n",
    "df_go = pd.read_csv('pokemonGO.csv')\n",
    "df_spawn = pd.read_csv('pokemon-spawns.csv')"
   ]
  },
  {
   "cell_type": "code",
   "execution_count": 6,
   "metadata": {
    "collapsed": false
   },
   "outputs": [
    {
     "data": {
      "text/html": [
       "<div>\n",
       "<table border=\"1\" class=\"dataframe\">\n",
       "  <thead>\n",
       "    <tr style=\"text-align: right;\">\n",
       "      <th></th>\n",
       "      <th>Pokemon No.</th>\n",
       "      <th>Name</th>\n",
       "      <th>Type 1</th>\n",
       "      <th>Type 2</th>\n",
       "      <th>Max CP</th>\n",
       "      <th>Max HP</th>\n",
       "      <th>Image URL</th>\n",
       "    </tr>\n",
       "  </thead>\n",
       "  <tbody>\n",
       "    <tr>\n",
       "      <th>0</th>\n",
       "      <td>1</td>\n",
       "      <td>Bulbasaur</td>\n",
       "      <td>Grass</td>\n",
       "      <td>Poison</td>\n",
       "      <td>1079</td>\n",
       "      <td>83</td>\n",
       "      <td>http://cdn.bulbagarden.net/upload/thumb/2/21/0...</td>\n",
       "    </tr>\n",
       "    <tr>\n",
       "      <th>1</th>\n",
       "      <td>2</td>\n",
       "      <td>Ivysaur</td>\n",
       "      <td>Grass</td>\n",
       "      <td>Poison</td>\n",
       "      <td>1643</td>\n",
       "      <td>107</td>\n",
       "      <td>http://cdn.bulbagarden.net/upload/thumb/7/73/0...</td>\n",
       "    </tr>\n",
       "    <tr>\n",
       "      <th>2</th>\n",
       "      <td>3</td>\n",
       "      <td>Venusaur</td>\n",
       "      <td>Grass</td>\n",
       "      <td>Poison</td>\n",
       "      <td>2598</td>\n",
       "      <td>138</td>\n",
       "      <td>http://cdn.bulbagarden.net/upload/thumb/a/ae/0...</td>\n",
       "    </tr>\n",
       "    <tr>\n",
       "      <th>3</th>\n",
       "      <td>4</td>\n",
       "      <td>Charmander</td>\n",
       "      <td>Fire</td>\n",
       "      <td>No_Type_2</td>\n",
       "      <td>962</td>\n",
       "      <td>73</td>\n",
       "      <td>http://cdn.bulbagarden.net/upload/thumb/7/73/0...</td>\n",
       "    </tr>\n",
       "    <tr>\n",
       "      <th>4</th>\n",
       "      <td>5</td>\n",
       "      <td>Charmeleon</td>\n",
       "      <td>Fire</td>\n",
       "      <td>No_Type_2</td>\n",
       "      <td>1568</td>\n",
       "      <td>103</td>\n",
       "      <td>http://cdn.bulbagarden.net/upload/thumb/4/4a/0...</td>\n",
       "    </tr>\n",
       "  </tbody>\n",
       "</table>\n",
       "</div>"
      ],
      "text/plain": [
       "   Pokemon No.        Name Type 1     Type 2  Max CP  Max HP  \\\n",
       "0            1   Bulbasaur  Grass     Poison    1079      83   \n",
       "1            2     Ivysaur  Grass     Poison    1643     107   \n",
       "2            3    Venusaur  Grass     Poison    2598     138   \n",
       "3            4  Charmander   Fire  No_Type_2     962      73   \n",
       "4            5  Charmeleon   Fire  No_Type_2    1568     103   \n",
       "\n",
       "                                           Image URL  \n",
       "0  http://cdn.bulbagarden.net/upload/thumb/2/21/0...  \n",
       "1  http://cdn.bulbagarden.net/upload/thumb/7/73/0...  \n",
       "2  http://cdn.bulbagarden.net/upload/thumb/a/ae/0...  \n",
       "3  http://cdn.bulbagarden.net/upload/thumb/7/73/0...  \n",
       "4  http://cdn.bulbagarden.net/upload/thumb/4/4a/0...  "
      ]
     },
     "execution_count": 6,
     "metadata": {},
     "output_type": "execute_result"
    }
   ],
   "source": [
    "df_go.head()"
   ]
  },
  {
   "cell_type": "code",
   "execution_count": 4,
   "metadata": {
    "collapsed": false
   },
   "outputs": [
    {
     "name": "stdout",
     "output_type": "stream",
     "text": [
      "<class 'pandas.core.frame.DataFrame'>\n",
      "RangeIndex: 151 entries, 0 to 150\n",
      "Data columns (total 7 columns):\n",
      "Pokemon No.    151 non-null int64\n",
      "Name           151 non-null object\n",
      "Type 1         151 non-null object\n",
      "Type 2         67 non-null object\n",
      "Max CP         151 non-null int64\n",
      "Max HP         151 non-null int64\n",
      "Image URL      151 non-null object\n",
      "dtypes: int64(3), object(4)\n",
      "memory usage: 8.3+ KB\n"
     ]
    }
   ],
   "source": [
    "df_go.info()"
   ]
  },
  {
   "cell_type": "code",
   "execution_count": 3,
   "metadata": {
    "collapsed": false
   },
   "outputs": [
    {
     "data": {
      "text/html": [
       "<div>\n",
       "<table border=\"1\" class=\"dataframe\">\n",
       "  <thead>\n",
       "    <tr style=\"text-align: right;\">\n",
       "      <th></th>\n",
       "      <th>s2_id</th>\n",
       "      <th>s2_token</th>\n",
       "      <th>num</th>\n",
       "      <th>name</th>\n",
       "      <th>lat</th>\n",
       "      <th>lng</th>\n",
       "      <th>encounter_ms</th>\n",
       "      <th>disppear_ms</th>\n",
       "    </tr>\n",
       "  </thead>\n",
       "  <tbody>\n",
       "    <tr>\n",
       "      <th>0</th>\n",
       "      <td>-9185794522947256000</td>\n",
       "      <td>8085808cc6d</td>\n",
       "      <td>13</td>\n",
       "      <td>Weedle</td>\n",
       "      <td>37.793592</td>\n",
       "      <td>-122.408721</td>\n",
       "      <td>1469520187732</td>\n",
       "      <td>1469519919988</td>\n",
       "    </tr>\n",
       "    <tr>\n",
       "      <th>1</th>\n",
       "      <td>-9185794529389707000</td>\n",
       "      <td>8085808b51d</td>\n",
       "      <td>16</td>\n",
       "      <td>Pidgey</td>\n",
       "      <td>37.794746</td>\n",
       "      <td>-122.406420</td>\n",
       "      <td>1469520297172</td>\n",
       "      <td>1469519919992</td>\n",
       "    </tr>\n",
       "  </tbody>\n",
       "</table>\n",
       "</div>"
      ],
      "text/plain": [
       "                 s2_id     s2_token  num    name        lat         lng  \\\n",
       "0 -9185794522947256000  8085808cc6d   13  Weedle  37.793592 -122.408721   \n",
       "1 -9185794529389707000  8085808b51d   16  Pidgey  37.794746 -122.406420   \n",
       "\n",
       "    encounter_ms    disppear_ms  \n",
       "0  1469520187732  1469519919988  \n",
       "1  1469520297172  1469519919992  "
      ]
     },
     "execution_count": 3,
     "metadata": {},
     "output_type": "execute_result"
    }
   ],
   "source": [
    "df_spawn.head(2)"
   ]
  },
  {
   "cell_type": "markdown",
   "metadata": {},
   "source": [
    "From the above we can see that in df_go we have identification information about the Pokemon (Pokemon No. and Name) and the properties of the Pokemons (Types, CP and HP). For those who are not familiar with the game, CP is related to how hard a Pokemon hits and HP is related to how tough it is. In other words they are the 'attack' and 'defense' properties respectively.\n",
    "\n",
    "df_spawn contains information of Pokemon appearance across a time period in the San Fransisco Bay area. In the data we have the Pokemon info, which is useful for joining up the data. Then we have the location(latitude and longitude) of each appearance. We have also got the duration of its appearance (encounter and disappear). The s2 information is irrelevant in this analysis hence they would be excluded."
   ]
  },
  {
   "cell_type": "code",
   "execution_count": 4,
   "metadata": {
    "collapsed": true
   },
   "outputs": [],
   "source": [
    "# drop s2 related columns\n",
    "df_spawn.drop(['s2_id','s2_token'],axis=1,inplace=True)"
   ]
  },
  {
   "cell_type": "code",
   "execution_count": 5,
   "metadata": {
    "collapsed": false
   },
   "outputs": [],
   "source": [
    "# Compute appearance duration\n",
    "df_spawn['duration_s'] = -(df_spawn['disppear_ms'] - df_spawn['encounter_ms'])/1000"
   ]
  },
  {
   "cell_type": "code",
   "execution_count": 6,
   "metadata": {
    "collapsed": false
   },
   "outputs": [
    {
     "data": {
      "text/html": [
       "<div>\n",
       "<table border=\"1\" class=\"dataframe\">\n",
       "  <thead>\n",
       "    <tr style=\"text-align: right;\">\n",
       "      <th></th>\n",
       "      <th>num</th>\n",
       "      <th>lat</th>\n",
       "      <th>lng</th>\n",
       "      <th>encounter_ms</th>\n",
       "      <th>disppear_ms</th>\n",
       "      <th>duration_s</th>\n",
       "    </tr>\n",
       "  </thead>\n",
       "  <tbody>\n",
       "    <tr>\n",
       "      <th>count</th>\n",
       "      <td>314105.000000</td>\n",
       "      <td>314105.000000</td>\n",
       "      <td>314105.000000</td>\n",
       "      <td>3.141050e+05</td>\n",
       "      <td>3.141050e+05</td>\n",
       "      <td>3.141050e+05</td>\n",
       "    </tr>\n",
       "    <tr>\n",
       "      <th>mean</th>\n",
       "      <td>46.544569</td>\n",
       "      <td>37.291383</td>\n",
       "      <td>-95.059814</td>\n",
       "      <td>1.371451e+12</td>\n",
       "      <td>1.469550e+12</td>\n",
       "      <td>-9.809908e+07</td>\n",
       "    </tr>\n",
       "    <tr>\n",
       "      <th>std</th>\n",
       "      <td>36.155881</td>\n",
       "      <td>1.918667</td>\n",
       "      <td>73.256881</td>\n",
       "      <td>3.667958e+11</td>\n",
       "      <td>1.999433e+07</td>\n",
       "      <td>3.667959e+08</td>\n",
       "    </tr>\n",
       "    <tr>\n",
       "      <th>min</th>\n",
       "      <td>1.000000</td>\n",
       "      <td>32.188748</td>\n",
       "      <td>-122.611804</td>\n",
       "      <td>-1.000000e+00</td>\n",
       "      <td>1.469520e+12</td>\n",
       "      <td>-1.469670e+09</td>\n",
       "    </tr>\n",
       "    <tr>\n",
       "      <th>25%</th>\n",
       "      <td>19.000000</td>\n",
       "      <td>37.322103</td>\n",
       "      <td>-122.337013</td>\n",
       "      <td>1.469542e+12</td>\n",
       "      <td>1.469543e+12</td>\n",
       "      <td>1.785060e+02</td>\n",
       "    </tr>\n",
       "    <tr>\n",
       "      <th>50%</th>\n",
       "      <td>41.000000</td>\n",
       "      <td>37.615938</td>\n",
       "      <td>-122.106334</td>\n",
       "      <td>1.469549e+12</td>\n",
       "      <td>1.469549e+12</td>\n",
       "      <td>4.199840e+02</td>\n",
       "    </tr>\n",
       "    <tr>\n",
       "      <th>75%</th>\n",
       "      <td>60.000000</td>\n",
       "      <td>37.788990</td>\n",
       "      <td>-118.260931</td>\n",
       "      <td>1.469557e+12</td>\n",
       "      <td>1.469557e+12</td>\n",
       "      <td>6.598370e+02</td>\n",
       "    </tr>\n",
       "    <tr>\n",
       "      <th>max</th>\n",
       "      <td>148.000000</td>\n",
       "      <td>43.164284</td>\n",
       "      <td>139.840451</td>\n",
       "      <td>1.469671e+12</td>\n",
       "      <td>1.469670e+12</td>\n",
       "      <td>9.000000e+02</td>\n",
       "    </tr>\n",
       "  </tbody>\n",
       "</table>\n",
       "</div>"
      ],
      "text/plain": [
       "                 num            lat            lng  encounter_ms  \\\n",
       "count  314105.000000  314105.000000  314105.000000  3.141050e+05   \n",
       "mean       46.544569      37.291383     -95.059814  1.371451e+12   \n",
       "std        36.155881       1.918667      73.256881  3.667958e+11   \n",
       "min         1.000000      32.188748    -122.611804 -1.000000e+00   \n",
       "25%        19.000000      37.322103    -122.337013  1.469542e+12   \n",
       "50%        41.000000      37.615938    -122.106334  1.469549e+12   \n",
       "75%        60.000000      37.788990    -118.260931  1.469557e+12   \n",
       "max       148.000000      43.164284     139.840451  1.469671e+12   \n",
       "\n",
       "        disppear_ms    duration_s  \n",
       "count  3.141050e+05  3.141050e+05  \n",
       "mean   1.469550e+12 -9.809908e+07  \n",
       "std    1.999433e+07  3.667959e+08  \n",
       "min    1.469520e+12 -1.469670e+09  \n",
       "25%    1.469543e+12  1.785060e+02  \n",
       "50%    1.469549e+12  4.199840e+02  \n",
       "75%    1.469557e+12  6.598370e+02  \n",
       "max    1.469670e+12  9.000000e+02  "
      ]
     },
     "execution_count": 6,
     "metadata": {},
     "output_type": "execute_result"
    }
   ],
   "source": [
    "df_spawn.describe()"
   ]
  },
  {
   "cell_type": "markdown",
   "metadata": {},
   "source": [
    "From the describe method above it can be seen that there are 314105 records in the spawn data set. However there are some ureasonable data such as the duration having a negative value. Some Longitude values seems to be off as well as it should not cover a range from -122 to +139. Therefore those data will be investigated further."
   ]
  },
  {
   "cell_type": "code",
   "execution_count": 7,
   "metadata": {
    "collapsed": false
   },
   "outputs": [
    {
     "data": {
      "text/html": [
       "<div>\n",
       "<table border=\"1\" class=\"dataframe\">\n",
       "  <thead>\n",
       "    <tr style=\"text-align: right;\">\n",
       "      <th></th>\n",
       "      <th>num</th>\n",
       "      <th>name</th>\n",
       "      <th>lat</th>\n",
       "      <th>lng</th>\n",
       "      <th>encounter_ms</th>\n",
       "      <th>disppear_ms</th>\n",
       "      <th>duration_s</th>\n",
       "    </tr>\n",
       "  </thead>\n",
       "  <tbody>\n",
       "    <tr>\n",
       "      <th>3</th>\n",
       "      <td>16</td>\n",
       "      <td>Pidgey</td>\n",
       "      <td>37.795644</td>\n",
       "      <td>-122.407128</td>\n",
       "      <td>-1</td>\n",
       "      <td>1469519920134</td>\n",
       "      <td>-1.469520e+09</td>\n",
       "    </tr>\n",
       "    <tr>\n",
       "      <th>18</th>\n",
       "      <td>19</td>\n",
       "      <td>Rattata</td>\n",
       "      <td>37.301284</td>\n",
       "      <td>-121.998094</td>\n",
       "      <td>-1</td>\n",
       "      <td>1469520277295</td>\n",
       "      <td>-1.469520e+09</td>\n",
       "    </tr>\n",
       "    <tr>\n",
       "      <th>27</th>\n",
       "      <td>133</td>\n",
       "      <td>Eevee</td>\n",
       "      <td>37.301852</td>\n",
       "      <td>-121.950999</td>\n",
       "      <td>-1</td>\n",
       "      <td>1469520277338</td>\n",
       "      <td>-1.469520e+09</td>\n",
       "    </tr>\n",
       "    <tr>\n",
       "      <th>32</th>\n",
       "      <td>19</td>\n",
       "      <td>Rattata</td>\n",
       "      <td>37.303030</td>\n",
       "      <td>-121.999782</td>\n",
       "      <td>-1</td>\n",
       "      <td>1469520277364</td>\n",
       "      <td>-1.469520e+09</td>\n",
       "    </tr>\n",
       "    <tr>\n",
       "      <th>44</th>\n",
       "      <td>46</td>\n",
       "      <td>Paras</td>\n",
       "      <td>37.303843</td>\n",
       "      <td>-121.975615</td>\n",
       "      <td>-1</td>\n",
       "      <td>1469520277481</td>\n",
       "      <td>-1.469520e+09</td>\n",
       "    </tr>\n",
       "  </tbody>\n",
       "</table>\n",
       "</div>"
      ],
      "text/plain": [
       "    num     name        lat         lng  encounter_ms    disppear_ms  \\\n",
       "3    16   Pidgey  37.795644 -122.407128            -1  1469519920134   \n",
       "18   19  Rattata  37.301284 -121.998094            -1  1469520277295   \n",
       "27  133    Eevee  37.301852 -121.950999            -1  1469520277338   \n",
       "32   19  Rattata  37.303030 -121.999782            -1  1469520277364   \n",
       "44   46    Paras  37.303843 -121.975615            -1  1469520277481   \n",
       "\n",
       "      duration_s  \n",
       "3  -1.469520e+09  \n",
       "18 -1.469520e+09  \n",
       "27 -1.469520e+09  \n",
       "32 -1.469520e+09  \n",
       "44 -1.469520e+09  "
      ]
     },
     "execution_count": 7,
     "metadata": {},
     "output_type": "execute_result"
    }
   ],
   "source": [
    "# There are 20968 rows in total but to save space only the first 5 are displayed\n",
    "df_spawn[df_spawn['duration_s']<=0].head()"
   ]
  },
  {
   "cell_type": "code",
   "execution_count": 8,
   "metadata": {
    "collapsed": true
   },
   "outputs": [],
   "source": [
    "'''It is obvious that the encounter_ms are all set to -1 which results in a negative duration. It is assumed that  \n",
    "this is due to the fact of the encounter time not being recorded. Therefore these values will be excluded from the\n",
    "analysis of Pokeon appearance duration'''\n",
    "\n",
    "df_spawn_duration = df_spawn[df_spawn['duration_s']>0]"
   ]
  },
  {
   "cell_type": "code",
   "execution_count": 9,
   "metadata": {
    "collapsed": false
   },
   "outputs": [
    {
     "data": {
      "text/plain": [
       "<matplotlib.axes._subplots.AxesSubplot at 0x119c89450>"
      ]
     },
     "execution_count": 9,
     "metadata": {},
     "output_type": "execute_result"
    },
    {
     "data": {
      "image/png": "[encoded data removed]",
      "text/plain": [
       "<matplotlib.figure.Figure at 0x119c89150>"
      ]
     },
     "metadata": {},
     "output_type": "display_data"
    }
   ],
   "source": [
    "# Plot histogram to show Longitude distribution\n",
    "df_spawn['lng'].hist(figsize=(10,7))"
   ]
  },
  {
   "cell_type": "markdown",
   "metadata": {},
   "source": [
    "It is apparent that there are about 25000 cases where the Longitudes are over 100. "
   ]
  },
  {
   "cell_type": "code",
   "execution_count": 10,
   "metadata": {
    "collapsed": false
   },
   "outputs": [
    {
     "data": {
      "text/plain": [
       "<matplotlib.axes._subplots.AxesSubplot at 0x117917810>"
      ]
     },
     "execution_count": 10,
     "metadata": {},
     "output_type": "execute_result"
    },
    {
     "data": {
      "image/png": "[encoded data removed]",
      "text/plain": [
       "<matplotlib.figure.Figure at 0x119c66d90>"
      ]
     },
     "metadata": {},
     "output_type": "display_data"
    }
   ],
   "source": [
    "df_spawn[df_spawn['lng']<100]['lng'].hist(figsize=(10,7))"
   ]
  },
  {
   "cell_type": "markdown",
   "metadata": {},
   "source": [
    "The above plots suggest that the data might not be limited to San Fransisco only as there are multiple location data that are far apart. This can be visualised by plotting the locations in Tableau. We can see from the map below that apart from the SF Bay area, there are other data in for example LA. It turns out that the data set contains data for some ohter locations as well such as New York and even places in Japan! Since it would be better to focus the investigation in one place, it is decided that only the data for SF Bay will be used in geographical analysis. "
   ]
  },
  {
   "cell_type": "markdown",
   "metadata": {},
   "source": [
    "<img src='pokemon_location_examle.jpg'>"
   ]
  },
  {
   "cell_type": "code",
   "execution_count": 11,
   "metadata": {
    "collapsed": false
   },
   "outputs": [],
   "source": [
    "# Limit data using Latitude and Longitude\n",
    "df_spawn_geo = df_spawn[(df_spawn['lat']>=37.2) & (df_spawn['lat']<=38) & \n",
    "                        (df_spawn['lng']>=121.8) & (df_spawn['lng']<=122.6)]"
   ]
  },
  {
   "cell_type": "code",
   "execution_count": 12,
   "metadata": {
    "collapsed": false
   },
   "outputs": [
    {
     "name": "stdout",
     "output_type": "stream",
     "text": [
      "<class 'pandas.core.frame.DataFrame'>\n",
      "RangeIndex: 314105 entries, 0 to 314104\n",
      "Data columns (total 7 columns):\n",
      "num             314105 non-null int64\n",
      "name            314105 non-null object\n",
      "lat             314105 non-null float64\n",
      "lng             314105 non-null float64\n",
      "encounter_ms    314105 non-null int64\n",
      "disppear_ms     314105 non-null int64\n",
      "duration_s      314105 non-null float64\n",
      "dtypes: float64(3), int64(3), object(1)\n",
      "memory usage: 16.8+ MB\n"
     ]
    }
   ],
   "source": [
    "# Check data type of each features. They seem to be reasonable \n",
    "df_spawn.info()"
   ]
  },
  {
   "cell_type": "code",
   "execution_count": 13,
   "metadata": {
    "collapsed": false
   },
   "outputs": [
    {
     "data": {
      "text/html": [
       "<div>\n",
       "<table border=\"1\" class=\"dataframe\">\n",
       "  <thead>\n",
       "    <tr style=\"text-align: right;\">\n",
       "      <th></th>\n",
       "      <th>Pokemon No.</th>\n",
       "      <th>Max CP</th>\n",
       "      <th>Max HP</th>\n",
       "    </tr>\n",
       "  </thead>\n",
       "  <tbody>\n",
       "    <tr>\n",
       "      <th>count</th>\n",
       "      <td>151.000000</td>\n",
       "      <td>151.000000</td>\n",
       "      <td>151.000000</td>\n",
       "    </tr>\n",
       "    <tr>\n",
       "      <th>mean</th>\n",
       "      <td>76.000000</td>\n",
       "      <td>1637.291391</td>\n",
       "      <td>113.350993</td>\n",
       "    </tr>\n",
       "    <tr>\n",
       "      <th>std</th>\n",
       "      <td>43.734045</td>\n",
       "      <td>755.261726</td>\n",
       "      <td>45.297417</td>\n",
       "    </tr>\n",
       "    <tr>\n",
       "      <th>min</th>\n",
       "      <td>1.000000</td>\n",
       "      <td>264.000000</td>\n",
       "      <td>27.000000</td>\n",
       "    </tr>\n",
       "    <tr>\n",
       "      <th>25%</th>\n",
       "      <td>38.500000</td>\n",
       "      <td>1001.500000</td>\n",
       "      <td>83.000000</td>\n",
       "    </tr>\n",
       "    <tr>\n",
       "      <th>50%</th>\n",
       "      <td>76.000000</td>\n",
       "      <td>1594.000000</td>\n",
       "      <td>107.000000</td>\n",
       "    </tr>\n",
       "    <tr>\n",
       "      <th>75%</th>\n",
       "      <td>113.500000</td>\n",
       "      <td>2170.500000</td>\n",
       "      <td>138.000000</td>\n",
       "    </tr>\n",
       "    <tr>\n",
       "      <th>max</th>\n",
       "      <td>151.000000</td>\n",
       "      <td>4174.000000</td>\n",
       "      <td>408.000000</td>\n",
       "    </tr>\n",
       "  </tbody>\n",
       "</table>\n",
       "</div>"
      ],
      "text/plain": [
       "       Pokemon No.       Max CP      Max HP\n",
       "count   151.000000   151.000000  151.000000\n",
       "mean     76.000000  1637.291391  113.350993\n",
       "std      43.734045   755.261726   45.297417\n",
       "min       1.000000   264.000000   27.000000\n",
       "25%      38.500000  1001.500000   83.000000\n",
       "50%      76.000000  1594.000000  107.000000\n",
       "75%     113.500000  2170.500000  138.000000\n",
       "max     151.000000  4174.000000  408.000000"
      ]
     },
     "execution_count": 13,
     "metadata": {},
     "output_type": "execute_result"
    }
   ],
   "source": [
    "# Look at another data set\n",
    "df_go.describe()"
   ]
  },
  {
   "cell_type": "markdown",
   "metadata": {},
   "source": [
    "From the above we know that there are 151 unique Pokemon available at the time when the data was collected. Since we have no previous information about CP and HP we can not immediately tell whether they are reasonable. Therefore the data would be visulaised and explored."
   ]
  },
  {
   "cell_type": "code",
   "execution_count": 14,
   "metadata": {
    "collapsed": false
   },
   "outputs": [
    {
     "data": {
      "image/png": "[encoded data removed]",
      "text/plain": [
       "<matplotlib.figure.Figure at 0x117c7cf10>"
      ]
     },
     "metadata": {},
     "output_type": "display_data"
    }
   ],
   "source": [
    "fig = plt.figure(figsize=(16,6))\n",
    "ax1= fig.add_subplot(121)\n",
    "ax2= fig.add_subplot(122)\n",
    "df_go['Max CP'].hist(ax=ax1)\n",
    "df_go['Max HP'].hist(ax=ax2)\n",
    "ax1.set(xlabel='Max CP', ylabel='Count', title = 'CP distribution')\n",
    "ax2.set(xlabel='Max HP', ylabel='Count', title = 'HP distribution')\n",
    "plt.show()\n"
   ]
  },
  {
   "cell_type": "markdown",
   "metadata": {},
   "source": [
    "The diagrams above shows the distribution for both CP and HP are relatively close together without any particular obvious outlier. Although it might be worth to look into the case(s) with a Max HP of over 350."
   ]
  },
  {
   "cell_type": "code",
   "execution_count": 15,
   "metadata": {
    "collapsed": false
   },
   "outputs": [
    {
     "data": {
      "text/html": [
       "<div>\n",
       "<table border=\"1\" class=\"dataframe\">\n",
       "  <thead>\n",
       "    <tr style=\"text-align: right;\">\n",
       "      <th></th>\n",
       "      <th>Pokemon No.</th>\n",
       "      <th>Name</th>\n",
       "      <th>Type 1</th>\n",
       "      <th>Type 2</th>\n",
       "      <th>Max CP</th>\n",
       "      <th>Max HP</th>\n",
       "      <th>Image URL</th>\n",
       "    </tr>\n",
       "  </thead>\n",
       "  <tbody>\n",
       "    <tr>\n",
       "      <th>112</th>\n",
       "      <td>113</td>\n",
       "      <td>Chansey</td>\n",
       "      <td>Normal</td>\n",
       "      <td>NaN</td>\n",
       "      <td>679</td>\n",
       "      <td>408</td>\n",
       "      <td>http://cdn.bulbagarden.net/upload/thumb/c/cd/1...</td>\n",
       "    </tr>\n",
       "  </tbody>\n",
       "</table>\n",
       "</div>"
      ],
      "text/plain": [
       "     Pokemon No.     Name  Type 1 Type 2  Max CP  Max HP  \\\n",
       "112          113  Chansey  Normal    NaN     679     408   \n",
       "\n",
       "                                             Image URL  \n",
       "112  http://cdn.bulbagarden.net/upload/thumb/c/cd/1...  "
      ]
     },
     "execution_count": 15,
     "metadata": {},
     "output_type": "execute_result"
    }
   ],
   "source": [
    "df_go[df_go['Max HP']>350]"
   ]
  },
  {
   "cell_type": "markdown",
   "metadata": {},
   "source": [
    "It turns out the be Chansey. If one has prior knowledge about Pokemon then this should not be a surprise as Chansey has always been a tough Pokemon. It is also a 'nurse' in the anime so we can reasonably comfortable with its high HP (life realted) value. Having understood these features, a final review was carried out."
   ]
  },
  {
   "cell_type": "code",
   "execution_count": 16,
   "metadata": {
    "collapsed": false
   },
   "outputs": [
    {
     "name": "stdout",
     "output_type": "stream",
     "text": [
      "<class 'pandas.core.frame.DataFrame'>\n",
      "RangeIndex: 151 entries, 0 to 150\n",
      "Data columns (total 7 columns):\n",
      "Pokemon No.    151 non-null int64\n",
      "Name           151 non-null object\n",
      "Type 1         151 non-null object\n",
      "Type 2         67 non-null object\n",
      "Max CP         151 non-null int64\n",
      "Max HP         151 non-null int64\n",
      "Image URL      151 non-null object\n",
      "dtypes: int64(3), object(4)\n",
      "memory usage: 8.3+ KB\n"
     ]
    }
   ],
   "source": [
    "df_go.info()"
   ]
  },
  {
   "cell_type": "code",
   "execution_count": 5,
   "metadata": {
    "collapsed": true
   },
   "outputs": [],
   "source": [
    "# There are only 67 non-null values in the Type 2 column. This can be understood as not every Pokemon has more than 1 type\n",
    "# However this NaN will still need to be filled\n",
    "\n",
    "df_go['Type 2'] = df_go['Type 2'].fillna('No_Type_2')"
   ]
  },
  {
   "cell_type": "markdown",
   "metadata": {},
   "source": [
    "### Exploratory Data Analysis (EDA)\n",
    "\n",
    "Exploratory data analysis is one of the most important part of a data science workflow. This is becuase it allows a data science to understand the structure and relationship that exists within the data. Having such understandings would be very beneficial for hypothesis testings and predictive modelling because some of those operations have certain assumptions. It is through EDA that we can verify those assumptions. It is also important in terms of feature engineering as raw features do not always have the ability to filter out the noise from signals. Combining statistical knowledge, understanding of the data and domain experitse a data scientist would be able to create better features to improve model performance.\n",
    "\n",
    "The histograms in the above sections can be classified as part of the EDA. However there are more visualisation techniques that are also helpful."
   ]
  },
  {
   "cell_type": "code",
   "execution_count": 18,
   "metadata": {
    "collapsed": false
   },
   "outputs": [
    {
     "data": {
      "image/png": "[encoded data removed]",
      "text/plain": [
       "<matplotlib.figure.Figure at 0x119029ed0>"
      ]
     },
     "metadata": {},
     "output_type": "display_data"
    }
   ],
   "source": [
    "plt.figure( figsize=(10,7))\n",
    "sns.boxplot(x='Type 1', y='Max HP', data=df_go)\n",
    "plt.show()"
   ]
  },
  {
   "cell_type": "markdown",
   "metadata": {
    "collapsed": true
   },
   "source": [
    "It can be seen that the type with the highest HP correspons well to what was found earlier(Chansey). On average it can be easily picked out that 'Fairy' and 'Ice' are generally very tough i.e. have high Max HP. Not only that the variation of Max HP is also small. However using a group by method we can see that in reality there are only 2 Pokemons were categorised as 'Ice' or 'Fairy' hence having this small variation is not at all that surprising.   "
   ]
  },
  {
   "cell_type": "code",
   "execution_count": 19,
   "metadata": {
    "collapsed": false
   },
   "outputs": [
    {
     "data": {
      "text/plain": [
       "Type 1\n",
       "Bug         12\n",
       "Dragon       3\n",
       "Electric     9\n",
       "Fairy        2\n",
       "Fighting     7\n",
       "Fire        12\n",
       "Ghost        3\n",
       "Grass       12\n",
       "Ground       8\n",
       "Ice          2\n",
       "Normal      22\n",
       "Poison      14\n",
       "Psychic      8\n",
       "Rock         9\n",
       "Water       28\n",
       "Name: Max HP, dtype: int64"
      ]
     },
     "execution_count": 19,
     "metadata": {},
     "output_type": "execute_result"
    }
   ],
   "source": [
    "df_go.groupby('Type 1')['Max HP'].count()"
   ]
  },
  {
   "cell_type": "code",
   "execution_count": 20,
   "metadata": {
    "collapsed": false
   },
   "outputs": [
    {
     "data": {
      "image/png": "[encoded data removed]",
      "text/plain": [
       "<matplotlib.figure.Figure at 0x119943110>"
      ]
     },
     "metadata": {},
     "output_type": "display_data"
    }
   ],
   "source": [
    "plt.figure( figsize=(10,7))\n",
    "sns.boxplot(x='Type 1', y='Max CP', data=df_go)\n",
    "plt.show()"
   ]
  },
  {
   "cell_type": "markdown",
   "metadata": {},
   "source": [
    "The same could be done for Max CP too. More interestingly we observe a larger spread of values in this plot. Max CP can commonly range from a lower end of around 500 all the way to a higher end of over 4000. It is interesting to see that Type Ice Pokemon are again performing above average here having the highest mean Max CP. However in terms of best in the game it would be a Psychic Pokemon which has a CP of over 4000."
   ]
  },
  {
   "cell_type": "code",
   "execution_count": 21,
   "metadata": {
    "collapsed": false
   },
   "outputs": [
    {
     "data": {
      "text/html": [
       "<div>\n",
       "<table border=\"1\" class=\"dataframe\">\n",
       "  <thead>\n",
       "    <tr style=\"text-align: right;\">\n",
       "      <th></th>\n",
       "      <th>Pokemon No.</th>\n",
       "      <th>Name</th>\n",
       "      <th>Type 1</th>\n",
       "      <th>Type 2</th>\n",
       "      <th>Max CP</th>\n",
       "      <th>Max HP</th>\n",
       "      <th>Image URL</th>\n",
       "    </tr>\n",
       "  </thead>\n",
       "  <tbody>\n",
       "    <tr>\n",
       "      <th>123</th>\n",
       "      <td>124</td>\n",
       "      <td>Jynx</td>\n",
       "      <td>Ice</td>\n",
       "      <td>Psychic</td>\n",
       "      <td>1728</td>\n",
       "      <td>115</td>\n",
       "      <td>http://cdn.bulbagarden.net/upload/thumb/7/7c/1...</td>\n",
       "    </tr>\n",
       "    <tr>\n",
       "      <th>143</th>\n",
       "      <td>144</td>\n",
       "      <td>Articuno</td>\n",
       "      <td>Ice</td>\n",
       "      <td>Flying</td>\n",
       "      <td>2999</td>\n",
       "      <td>154</td>\n",
       "      <td>http://cdn.bulbagarden.net/upload/thumb/4/4e/1...</td>\n",
       "    </tr>\n",
       "  </tbody>\n",
       "</table>\n",
       "</div>"
      ],
      "text/plain": [
       "     Pokemon No.      Name Type 1   Type 2  Max CP  Max HP  \\\n",
       "123          124      Jynx    Ice  Psychic    1728     115   \n",
       "143          144  Articuno    Ice   Flying    2999     154   \n",
       "\n",
       "                                             Image URL  \n",
       "123  http://cdn.bulbagarden.net/upload/thumb/7/7c/1...  \n",
       "143  http://cdn.bulbagarden.net/upload/thumb/4/4e/1...  "
      ]
     },
     "execution_count": 21,
     "metadata": {},
     "output_type": "execute_result"
    }
   ],
   "source": [
    "df_go[df_go['Type 1']=='Ice']"
   ]
  },
  {
   "cell_type": "code",
   "execution_count": 22,
   "metadata": {
    "collapsed": false
   },
   "outputs": [
    {
     "data": {
      "text/html": [
       "<div>\n",
       "<table border=\"1\" class=\"dataframe\">\n",
       "  <thead>\n",
       "    <tr style=\"text-align: right;\">\n",
       "      <th></th>\n",
       "      <th>Pokemon No.</th>\n",
       "      <th>Name</th>\n",
       "      <th>Type 1</th>\n",
       "      <th>Type 2</th>\n",
       "      <th>Max CP</th>\n",
       "      <th>Max HP</th>\n",
       "      <th>Image URL</th>\n",
       "    </tr>\n",
       "  </thead>\n",
       "  <tbody>\n",
       "    <tr>\n",
       "      <th>149</th>\n",
       "      <td>150</td>\n",
       "      <td>Mewtwo</td>\n",
       "      <td>Psychic</td>\n",
       "      <td>No_Type_2</td>\n",
       "      <td>4174</td>\n",
       "      <td>180</td>\n",
       "      <td>http://cdn.bulbagarden.net/upload/thumb/7/78/1...</td>\n",
       "    </tr>\n",
       "  </tbody>\n",
       "</table>\n",
       "</div>"
      ],
      "text/plain": [
       "     Pokemon No.    Name   Type 1     Type 2  Max CP  Max HP  \\\n",
       "149          150  Mewtwo  Psychic  No_Type_2    4174     180   \n",
       "\n",
       "                                             Image URL  \n",
       "149  http://cdn.bulbagarden.net/upload/thumb/7/78/1...  "
      ]
     },
     "execution_count": 22,
     "metadata": {},
     "output_type": "execute_result"
    }
   ],
   "source": [
    "df_go[df_go['Max CP']>4000]"
   ]
  },
  {
   "cell_type": "markdown",
   "metadata": {},
   "source": [
    "It would be interesting to see that whether there are any relationships between CP values and HP values. Common sense tells us if you are tough, you are probbly strong as well. "
   ]
  },
  {
   "cell_type": "code",
   "execution_count": 25,
   "metadata": {
    "collapsed": false
   },
   "outputs": [
    {
     "data": {
      "image/png": "[encoded data removed]",
      "text/plain": [
       "<matplotlib.figure.Figure at 0x117893e90>"
      ]
     },
     "metadata": {},
     "output_type": "display_data"
    }
   ],
   "source": [
    "fig = plt.figure(figsize=(10,7))\n",
    "ax = fig.add_subplot(111)\n",
    "ax.scatter('Max CP', 'Max HP', data=df_go)\n",
    "ax.set(xlabel='Max CP', ylabel='Max HP', title='Relationship between CP and HP')\n",
    "plt.show()"
   ]
  },
  {
   "cell_type": "markdown",
   "metadata": {},
   "source": [
    "It can be seen that there is in fact a relationship between those features. The tougher the Pokemon is, the harder it hits! Next it would be interesting to see how long pokemon stays in the map!"
   ]
  },
  {
   "cell_type": "code",
   "execution_count": 35,
   "metadata": {
    "collapsed": false
   },
   "outputs": [
    {
     "data": {
      "image/png": "[encoded data removed]",
      "text/plain": [
       "<matplotlib.figure.Figure at 0x1199a2450>"
      ]
     },
     "metadata": {},
     "output_type": "display_data"
    }
   ],
   "source": [
    "fig = plt.figure(figsize=(10,7))\n",
    "ax = fig.add_subplot(111)\n",
    "df_spawn_duration['duration_s'].hist()\n",
    "ax.set(xlabel='Seconds',ylabel=\"Count\",title='Appearance duraton distribution')\n",
    "plt.show()"
   ]
  },
  {
   "cell_type": "markdown",
   "metadata": {},
   "source": [
    "The histogram above demonstrates a nice uniform distribution from a very short time (0 seconds!?) to about 15 minutes (900 seconds). This plot is the summary of all measurable appearance instances. It would be interesting to plot another one using the average appearance time of individual Pokemons."
   ]
  },
  {
   "cell_type": "code",
   "execution_count": 38,
   "metadata": {
    "collapsed": false
   },
   "outputs": [
    {
     "data": {
      "image/png": "[encoded data removed]",
      "text/plain": [
       "<matplotlib.figure.Figure at 0x119a81fd0>"
      ]
     },
     "metadata": {},
     "output_type": "display_data"
    }
   ],
   "source": [
    "fig = plt.figure(figsize=(10,7))\n",
    "ax = fig.add_subplot(111)\n",
    "df_spawn_duration.groupby('num')['duration_s'].mean().hist(figsize=(10,7), bins=20)\n",
    "ax.set(xlabel='Seconds',ylabel=\"Count\",title='Average appearance duraton distribution per Pokemon')\n",
    "ax.axvline(df_spawn_duration['duration_s'].mean(), color='r',label='Mean')\n",
    "plt.legend()\n",
    "plt.show()"
   ]
  },
  {
   "cell_type": "markdown",
   "metadata": {},
   "source": [
    "This time the distribution if more like a normal distribution where the tails are relatively thin. Most Pokemons have an appearance duration of about 460 seconds (7.5 minutes). Some appear for very long (>800 seconds) whilst some just stays briefly. The ones that leaves in a hurry are the folloings:"
   ]
  },
  {
   "cell_type": "code",
   "execution_count": 44,
   "metadata": {
    "collapsed": false
   },
   "outputs": [
    {
     "data": {
      "text/plain": [
       "name\n",
       "Victreebel    148.695143\n",
       "Weezing       212.143667\n",
       "Charizard     216.631300\n",
       "Wigglytuff    247.505333\n",
       "Butterfree    293.425080\n",
       "Jolteon       333.208952\n",
       "Venusaur      333.470643\n",
       "Snorlax       353.357316\n",
       "Dragonair     359.830773\n",
       "Dugtrio       363.008744\n",
       "Ivysaur       379.401753\n",
       "Cloyster      394.447200\n",
       "Nidorino      395.267578\n",
       "Kingler       403.086643\n",
       "Tauros        405.351993\n",
       "Dodrio        407.000491\n",
       "Rapidash      407.318077\n",
       "Porygon       407.459944\n",
       "Aerodactyl    409.164517\n",
       "Arcanine      410.417361\n",
       "Beedrill      411.227493\n",
       "Farfetch'd    412.633037\n",
       "Magmar        415.194503\n",
       "Slowbro       418.166933\n",
       "Arbok         423.157800\n",
       "Kakuna        423.218571\n",
       "Vulpix        423.535148\n",
       "Gloom         426.246695\n",
       "Seel          426.782840\n",
       "Hitmonchan    428.266118\n",
       "                 ...    \n",
       "Wartortle     484.688677\n",
       "Kadabra       484.932897\n",
       "Haunter       485.475029\n",
       "Tentacruel    488.509029\n",
       "Lickitung     488.746193\n",
       "Shellder      493.816577\n",
       "Kabuto        497.420695\n",
       "Golem         502.660870\n",
       "Seadra        504.387115\n",
       "Poliwhirl     512.685305\n",
       "Chansey       516.471535\n",
       "Marowak       521.198507\n",
       "Nidoqueen     525.325267\n",
       "Sandslash     529.135331\n",
       "Magneton      536.374976\n",
       "Persian       538.368538\n",
       "Exeggutor     543.066290\n",
       "Electrode     558.637462\n",
       "Ninetales     563.268929\n",
       "Machamp       571.559833\n",
       "Grimer        584.617975\n",
       "Hypno         612.949167\n",
       "Poliwrath     613.725167\n",
       "Gyarados      645.494333\n",
       "Alakazam      646.346111\n",
       "Muk           647.442000\n",
       "Dewgong       695.949250\n",
       "Vileplume     826.390000\n",
       "Vaporeon      843.686750\n",
       "Omastar       887.482500\n",
       "Name: duration_s, dtype: float64"
      ]
     },
     "execution_count": 44,
     "metadata": {},
     "output_type": "execute_result"
    }
   ],
   "source": [
    "df_spawn_duration.groupby('name')['duration_s'].mean().sort_values()"
   ]
  },
  {
   "cell_type": "code",
   "execution_count": 9,
   "metadata": {
    "collapsed": false
   },
   "outputs": [
    {
     "data": {
      "text/plain": [
       "83.0"
      ]
     },
     "execution_count": 9,
     "metadata": {},
     "output_type": "execute_result"
    }
   ],
   "source": [
    "np.percentile(df_go['Max HP'],25)"
   ]
  },
  {
   "cell_type": "code",
   "execution_count": 15,
   "metadata": {
    "collapsed": false
   },
   "outputs": [
    {
     "data": {
      "image/png": "[encoded data removed]",
      "text/plain": [
       "<matplotlib.figure.Figure at 0x117726cd0>"
      ]
     },
     "metadata": {},
     "output_type": "display_data"
    }
   ],
   "source": [
    "from scipy import stats\n",
    "xxx = stats.norm.mean(loc=3, scale=1)\n",
    "#nm = stats.norm.rvs(size=1000)\n",
    "\n",
    "\n",
    "plt.hist(r)\n",
    "plt.show()"
   ]
  },
  {
   "cell_type": "code",
   "execution_count": 16,
   "metadata": {
    "collapsed": false
   },
   "outputs": [
    {
     "data": {
      "text/plain": [
       "3.0"
      ]
     },
     "execution_count": 16,
     "metadata": {},
     "output_type": "execute_result"
    }
   ],
   "source": [
    "xxx"
   ]
  },
  {
   "cell_type": "code",
   "execution_count": null,
   "metadata": {
    "collapsed": true
   },
   "outputs": [],
   "source": []
  }
 ],
 "metadata": {
  "anaconda-cloud": {},
  "kernelspec": {
   "display_name": "Python 2",
   "language": "python",
   "name": "python2"
  },
  "language_info": {
   "codemirror_mode": {
    "name": "ipython",
    "version": 2
   },
   "file_extension": ".py",
   "mimetype": "text/x-python",
   "name": "python",
   "nbconvert_exporter": "python",
   "pygments_lexer": "ipython2",
   "version": "2.7.12"
  }
 },
 "nbformat": 4,
 "nbformat_minor": 0
}
